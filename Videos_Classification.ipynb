{
  "nbformat": 4,
  "nbformat_minor": 0,
  "metadata": {
    "colab": {
      "provenance": []
    },
    "kernelspec": {
      "name": "python3",
      "display_name": "Python 3"
    },
    "language_info": {
      "name": "python"
    }
  },
  "cells": [
    {
      "cell_type": "markdown",
      "source": [
        "This script implements a YouTube video classification pipeline using LSTM neural networks.\n",
        "The model classifies videos into 6 categories based on their titles and descriptions.\n",
        "\n",
        "The pipeline includes:\n",
        "- Data loading and preprocessing using both classical NLP and Keras approaches\n",
        "- Text vectorization using Keras Tokenizer\n",
        "- LSTM model architecture for sequence classification\n",
        "- Model training with callbacks and visualization\n",
        "- Model evaluation and persistence\n",
        "\n",
        "`Author: Pouryare`\n",
        "\n",
        "`Date: October 2024`"
      ],
      "metadata": {
        "id": "nrlmfSJZipOd"
      }
    },
    {
      "cell_type": "code",
      "execution_count": 1,
      "metadata": {
        "colab": {
          "base_uri": "https://localhost:8080/",
          "height": 112
        },
        "id": "WGIm2kiUh5Ji",
        "outputId": "5ca786ab-b8c5-4db4-c912-96b1b0652e0d"
      },
      "outputs": [
        {
          "output_type": "display_data",
          "data": {
            "text/plain": [
              "<IPython.core.display.HTML object>"
            ],
            "text/html": [
              "\n",
              "     <input type=\"file\" id=\"files-5e1cef73-2329-4424-a722-e45eb6a1d1dc\" name=\"files[]\" multiple disabled\n",
              "        style=\"border:none\" />\n",
              "     <output id=\"result-5e1cef73-2329-4424-a722-e45eb6a1d1dc\">\n",
              "      Upload widget is only available when the cell has been executed in the\n",
              "      current browser session. Please rerun this cell to enable.\n",
              "      </output>\n",
              "      <script>// Copyright 2017 Google LLC\n",
              "//\n",
              "// Licensed under the Apache License, Version 2.0 (the \"License\");\n",
              "// you may not use this file except in compliance with the License.\n",
              "// You may obtain a copy of the License at\n",
              "//\n",
              "//      http://www.apache.org/licenses/LICENSE-2.0\n",
              "//\n",
              "// Unless required by applicable law or agreed to in writing, software\n",
              "// distributed under the License is distributed on an \"AS IS\" BASIS,\n",
              "// WITHOUT WARRANTIES OR CONDITIONS OF ANY KIND, either express or implied.\n",
              "// See the License for the specific language governing permissions and\n",
              "// limitations under the License.\n",
              "\n",
              "/**\n",
              " * @fileoverview Helpers for google.colab Python module.\n",
              " */\n",
              "(function(scope) {\n",
              "function span(text, styleAttributes = {}) {\n",
              "  const element = document.createElement('span');\n",
              "  element.textContent = text;\n",
              "  for (const key of Object.keys(styleAttributes)) {\n",
              "    element.style[key] = styleAttributes[key];\n",
              "  }\n",
              "  return element;\n",
              "}\n",
              "\n",
              "// Max number of bytes which will be uploaded at a time.\n",
              "const MAX_PAYLOAD_SIZE = 100 * 1024;\n",
              "\n",
              "function _uploadFiles(inputId, outputId) {\n",
              "  const steps = uploadFilesStep(inputId, outputId);\n",
              "  const outputElement = document.getElementById(outputId);\n",
              "  // Cache steps on the outputElement to make it available for the next call\n",
              "  // to uploadFilesContinue from Python.\n",
              "  outputElement.steps = steps;\n",
              "\n",
              "  return _uploadFilesContinue(outputId);\n",
              "}\n",
              "\n",
              "// This is roughly an async generator (not supported in the browser yet),\n",
              "// where there are multiple asynchronous steps and the Python side is going\n",
              "// to poll for completion of each step.\n",
              "// This uses a Promise to block the python side on completion of each step,\n",
              "// then passes the result of the previous step as the input to the next step.\n",
              "function _uploadFilesContinue(outputId) {\n",
              "  const outputElement = document.getElementById(outputId);\n",
              "  const steps = outputElement.steps;\n",
              "\n",
              "  const next = steps.next(outputElement.lastPromiseValue);\n",
              "  return Promise.resolve(next.value.promise).then((value) => {\n",
              "    // Cache the last promise value to make it available to the next\n",
              "    // step of the generator.\n",
              "    outputElement.lastPromiseValue = value;\n",
              "    return next.value.response;\n",
              "  });\n",
              "}\n",
              "\n",
              "/**\n",
              " * Generator function which is called between each async step of the upload\n",
              " * process.\n",
              " * @param {string} inputId Element ID of the input file picker element.\n",
              " * @param {string} outputId Element ID of the output display.\n",
              " * @return {!Iterable<!Object>} Iterable of next steps.\n",
              " */\n",
              "function* uploadFilesStep(inputId, outputId) {\n",
              "  const inputElement = document.getElementById(inputId);\n",
              "  inputElement.disabled = false;\n",
              "\n",
              "  const outputElement = document.getElementById(outputId);\n",
              "  outputElement.innerHTML = '';\n",
              "\n",
              "  const pickedPromise = new Promise((resolve) => {\n",
              "    inputElement.addEventListener('change', (e) => {\n",
              "      resolve(e.target.files);\n",
              "    });\n",
              "  });\n",
              "\n",
              "  const cancel = document.createElement('button');\n",
              "  inputElement.parentElement.appendChild(cancel);\n",
              "  cancel.textContent = 'Cancel upload';\n",
              "  const cancelPromise = new Promise((resolve) => {\n",
              "    cancel.onclick = () => {\n",
              "      resolve(null);\n",
              "    };\n",
              "  });\n",
              "\n",
              "  // Wait for the user to pick the files.\n",
              "  const files = yield {\n",
              "    promise: Promise.race([pickedPromise, cancelPromise]),\n",
              "    response: {\n",
              "      action: 'starting',\n",
              "    }\n",
              "  };\n",
              "\n",
              "  cancel.remove();\n",
              "\n",
              "  // Disable the input element since further picks are not allowed.\n",
              "  inputElement.disabled = true;\n",
              "\n",
              "  if (!files) {\n",
              "    return {\n",
              "      response: {\n",
              "        action: 'complete',\n",
              "      }\n",
              "    };\n",
              "  }\n",
              "\n",
              "  for (const file of files) {\n",
              "    const li = document.createElement('li');\n",
              "    li.append(span(file.name, {fontWeight: 'bold'}));\n",
              "    li.append(span(\n",
              "        `(${file.type || 'n/a'}) - ${file.size} bytes, ` +\n",
              "        `last modified: ${\n",
              "            file.lastModifiedDate ? file.lastModifiedDate.toLocaleDateString() :\n",
              "                                    'n/a'} - `));\n",
              "    const percent = span('0% done');\n",
              "    li.appendChild(percent);\n",
              "\n",
              "    outputElement.appendChild(li);\n",
              "\n",
              "    const fileDataPromise = new Promise((resolve) => {\n",
              "      const reader = new FileReader();\n",
              "      reader.onload = (e) => {\n",
              "        resolve(e.target.result);\n",
              "      };\n",
              "      reader.readAsArrayBuffer(file);\n",
              "    });\n",
              "    // Wait for the data to be ready.\n",
              "    let fileData = yield {\n",
              "      promise: fileDataPromise,\n",
              "      response: {\n",
              "        action: 'continue',\n",
              "      }\n",
              "    };\n",
              "\n",
              "    // Use a chunked sending to avoid message size limits. See b/62115660.\n",
              "    let position = 0;\n",
              "    do {\n",
              "      const length = Math.min(fileData.byteLength - position, MAX_PAYLOAD_SIZE);\n",
              "      const chunk = new Uint8Array(fileData, position, length);\n",
              "      position += length;\n",
              "\n",
              "      const base64 = btoa(String.fromCharCode.apply(null, chunk));\n",
              "      yield {\n",
              "        response: {\n",
              "          action: 'append',\n",
              "          file: file.name,\n",
              "          data: base64,\n",
              "        },\n",
              "      };\n",
              "\n",
              "      let percentDone = fileData.byteLength === 0 ?\n",
              "          100 :\n",
              "          Math.round((position / fileData.byteLength) * 100);\n",
              "      percent.textContent = `${percentDone}% done`;\n",
              "\n",
              "    } while (position < fileData.byteLength);\n",
              "  }\n",
              "\n",
              "  // All done.\n",
              "  yield {\n",
              "    response: {\n",
              "      action: 'complete',\n",
              "    }\n",
              "  };\n",
              "}\n",
              "\n",
              "scope.google = scope.google || {};\n",
              "scope.google.colab = scope.google.colab || {};\n",
              "scope.google.colab._files = {\n",
              "  _uploadFiles,\n",
              "  _uploadFilesContinue,\n",
              "};\n",
              "})(self);\n",
              "</script> "
            ]
          },
          "metadata": {}
        },
        {
          "output_type": "stream",
          "name": "stdout",
          "text": [
            "Saving Videos_data.csv to Videos_data.csv\n",
            "User uploaded file \"Videos_data.csv\" with length 2372618 bytes\n"
          ]
        }
      ],
      "source": [
        "from google.colab import files\n",
        "\n",
        "uploaded = files.upload()\n",
        "\n",
        "for fn in uploaded.keys():\n",
        "  print('User uploaded file \"{name}\" with length {length} bytes'.format(\n",
        "      name=fn, length=len(uploaded[fn])))\n",
        "\n",
        "  with open('/content/drive/MyDrive/ML/Videos Classification/' + fn, 'wb') as f:\n",
        "    f.write(uploaded[fn])"
      ]
    },
    {
      "cell_type": "code",
      "source": [
        "# Importing libraries\n",
        "from typing import Tuple, List, Dict, Any, Union\n",
        "import numpy as np\n",
        "import pandas as pd\n",
        "import matplotlib.pyplot as plt\n",
        "import seaborn as sns\n",
        "from pathlib import Path\n",
        "\n",
        "# Deep learning imports\n",
        "import tensorflow as tf\n",
        "from tensorflow.keras.preprocessing.text import Tokenizer\n",
        "from tensorflow.keras.preprocessing.sequence import pad_sequences\n",
        "from tensorflow.keras.models import Sequential, load_model\n",
        "from tensorflow.keras.layers import Dense, Embedding, LSTM, SpatialDropout1D\n",
        "from tensorflow.keras.callbacks import ModelCheckpoint, EarlyStopping\n",
        "from tensorflow.keras.utils import plot_model\n",
        "\n",
        "# Data preprocessing\n",
        "from sklearn.model_selection import train_test_split\n",
        "from sklearn.preprocessing import LabelEncoder\n",
        "import joblib"
      ],
      "metadata": {
        "id": "bpbxyJkBiSax"
      },
      "execution_count": 2,
      "outputs": []
    },
    {
      "cell_type": "code",
      "source": [
        "# Set random seeds for reproducibility\n",
        "np.random.seed(42)\n",
        "tf.random.set_seed(42)\n",
        "\n",
        "def load_data(filepath: str) -> pd.DataFrame:\n",
        "    \"\"\"\n",
        "    Load and preprocess the video classification dataset.\n",
        "\n",
        "    Args:\n",
        "        filepath: Path to the CSV file containing video data\n",
        "\n",
        "    Returns:\n",
        "        Preprocessed DataFrame with video information\n",
        "    \"\"\"\n",
        "    # Read data\n",
        "    data = pd.read_csv(filepath)\n",
        "    print(\"\\nInitial data shape:\", data.shape)\n",
        "    print(\"\\nSample of raw data:\")\n",
        "    print(data.head())\n",
        "\n",
        "    # Drop unnamed column and handle missing values\n",
        "    data = data.drop('Unnamed: 0', axis=1)\n",
        "    print(\"\\nMissing values before cleaning:\")\n",
        "    print(data.isnull().sum())\n",
        "\n",
        "    # Drop rows with missing values\n",
        "    data = data.dropna()\n",
        "    print(\"\\nShape after cleaning:\", data.shape)\n",
        "\n",
        "    return data"
      ],
      "metadata": {
        "id": "CXaBjs6yiSUQ"
      },
      "execution_count": 3,
      "outputs": []
    },
    {
      "cell_type": "code",
      "source": [
        "def prepare_text_data(\n",
        "    data: pd.DataFrame,\n",
        "    max_words: int = 10000,\n",
        "    max_len: int = 50\n",
        ") -> Tuple[np.ndarray, np.ndarray, Tokenizer, LabelEncoder]:\n",
        "    \"\"\"\n",
        "    Prepare text data for deep learning model using Keras Tokenizer.\n",
        "\n",
        "    Args:\n",
        "        data: Input DataFrame with Title and Description columns\n",
        "        max_words: Maximum number of words to keep\n",
        "        max_len: Maximum length of sequences\n",
        "\n",
        "    Returns:\n",
        "        Processed sequences and labels along with fitted tokenizer and encoder\n",
        "    \"\"\"\n",
        "    # Combine title and description\n",
        "    print(\"\\nCombining title and description...\")\n",
        "    titles = data['Title'].values\n",
        "    descriptions = data['Description'].values\n",
        "    combined_texts = []\n",
        "    for i in range(len(titles)):\n",
        "        combined_texts.append(f\"{titles[i]} {descriptions[i]}\")\n",
        "\n",
        "    # Initialize and fit tokenizer\n",
        "    print(\"\\nTokenizing text...\")\n",
        "    tokenizer = Tokenizer(num_words=max_words)\n",
        "    tokenizer.fit_on_texts(combined_texts)\n",
        "\n",
        "    # Convert text to sequences\n",
        "    sequences = tokenizer.texts_to_sequences(combined_texts)\n",
        "    X = pad_sequences(sequences, maxlen=max_len)\n",
        "\n",
        "    print(\"\\nSample of processed sequences:\")\n",
        "    print(X[:5])\n",
        "\n",
        "    # Encode labels\n",
        "    print(\"\\nEncoding labels...\")\n",
        "    label_encoder = LabelEncoder()\n",
        "    y = label_encoder.fit_transform(data['Category'])\n",
        "    y = tf.keras.utils.to_categorical(y)\n",
        "\n",
        "    print(\"\\nUnique categories:\", label_encoder.classes_)\n",
        "    print(\"Sample of encoded labels:\", y[:5])\n",
        "\n",
        "    return X, y, tokenizer, label_encoder"
      ],
      "metadata": {
        "id": "IjhinSdGjRDu"
      },
      "execution_count": 4,
      "outputs": []
    },
    {
      "cell_type": "code",
      "source": [
        "def create_model(\n",
        "    max_words: int,\n",
        "    max_len: int,\n",
        "    embedding_dim: int = 100,\n",
        "    n_classes: int = 6\n",
        ") -> Sequential:\n",
        "    \"\"\"\n",
        "    Create LSTM model for text classification.\n",
        "\n",
        "    Args:\n",
        "        max_words: Vocabulary size\n",
        "        max_len: Maximum sequence length\n",
        "        embedding_dim: Dimension of embeddings\n",
        "        n_classes: Number of output classes\n",
        "\n",
        "    Returns:\n",
        "        Compiled Keras Sequential model\n",
        "    \"\"\"\n",
        "    model = Sequential([\n",
        "        Embedding(max_words, embedding_dim, input_length=max_len),\n",
        "        SpatialDropout1D(0.2),\n",
        "        LSTM(100, dropout=0.2, recurrent_dropout=0.2),\n",
        "        Dense(n_classes, activation='softmax')\n",
        "    ])\n",
        "\n",
        "    model.compile(\n",
        "        loss='categorical_crossentropy',\n",
        "        optimizer='adam',\n",
        "        metrics=['accuracy']\n",
        "    )\n",
        "\n",
        "    print(\"\\nModel Summary:\")\n",
        "    model.summary()\n",
        "\n",
        "    return model"
      ],
      "metadata": {
        "id": "YB1R1lzdjQ7U"
      },
      "execution_count": 5,
      "outputs": []
    },
    {
      "cell_type": "code",
      "source": [
        "def train_model(\n",
        "    model: Sequential,\n",
        "    X_train: np.ndarray,\n",
        "    y_train: np.ndarray,\n",
        "    X_val: np.ndarray,\n",
        "    y_val: np.ndarray,\n",
        "    epochs: int = 10,\n",
        "    batch_size: int = 128\n",
        ") -> tf.keras.callbacks.History:\n",
        "    \"\"\"\n",
        "    Train the model with callbacks and return training history.\n",
        "\n",
        "    Args:\n",
        "        model: Keras Sequential model\n",
        "        X_train, y_train: Training data\n",
        "        X_val, y_val: Validation data\n",
        "        epochs: Number of training epochs\n",
        "        batch_size: Batch size for training\n",
        "\n",
        "    Returns:\n",
        "        Training history\n",
        "    \"\"\"\n",
        "    # Define callbacks\n",
        "    checkpoint = ModelCheckpoint(\n",
        "        'best_model.weights.h5',\n",
        "        monitor='val_accuracy',\n",
        "        save_best_only=True,\n",
        "        save_weights_only=True\n",
        "    )\n",
        "\n",
        "    early_stopping = EarlyStopping(\n",
        "        monitor='val_accuracy',\n",
        "        patience=3,\n",
        "        restore_best_weights=True\n",
        "    )\n",
        "\n",
        "    # Train model\n",
        "    history = model.fit(\n",
        "        X_train, y_train,\n",
        "        epochs=epochs,\n",
        "        batch_size=batch_size,\n",
        "        validation_data=(X_val, y_val),\n",
        "        callbacks=[checkpoint, early_stopping]\n",
        "    )\n",
        "\n",
        "    return history"
      ],
      "metadata": {
        "id": "ZsAq9xbqjQzK"
      },
      "execution_count": 6,
      "outputs": []
    },
    {
      "cell_type": "code",
      "source": [
        "def plot_training_history(history: tf.keras.callbacks.History) -> None:\n",
        "    \"\"\"\n",
        "    Plot training history metrics.\n",
        "\n",
        "    Args:\n",
        "        history: Training history from model.fit()\n",
        "    \"\"\"\n",
        "    fig, (ax1, ax2) = plt.subplots(1, 2, figsize=(15, 5))\n",
        "\n",
        "    # Plot accuracy\n",
        "    ax1.plot(history.history['accuracy'], label='train')\n",
        "    ax1.plot(history.history['val_accuracy'], label='validation')\n",
        "    ax1.set_title('Model Accuracy')\n",
        "    ax1.set_xlabel('Epoch')\n",
        "    ax1.set_ylabel('Accuracy')\n",
        "    ax1.legend()\n",
        "\n",
        "    # Plot loss\n",
        "    ax2.plot(history.history['loss'], label='train')\n",
        "    ax2.plot(history.history['val_loss'], label='validation')\n",
        "    ax2.set_title('Model Loss')\n",
        "    ax2.set_xlabel('Epoch')\n",
        "    ax2.set_ylabel('Loss')\n",
        "    ax2.legend()\n",
        "\n",
        "    plt.tight_layout()\n",
        "    plt.show()"
      ],
      "metadata": {
        "id": "BLotu42fjQwI"
      },
      "execution_count": 7,
      "outputs": []
    },
    {
      "cell_type": "code",
      "source": [
        "def evaluate_model(\n",
        "    model: Sequential,\n",
        "    X_test: np.ndarray,\n",
        "    y_test: np.ndarray,\n",
        "    label_encoder: LabelEncoder\n",
        ") -> None:\n",
        "    \"\"\"\n",
        "    Evaluate model performance on test set.\n",
        "\n",
        "    Args:\n",
        "        model: Trained Keras model\n",
        "        X_test, y_test: Test data\n",
        "        label_encoder: Fitted LabelEncoder\n",
        "    \"\"\"\n",
        "    # Get predictions\n",
        "    y_pred = model.predict(X_test)\n",
        "    y_pred_classes = np.argmax(y_pred, axis=1)\n",
        "    y_test_classes = np.argmax(y_test, axis=1)\n",
        "\n",
        "    # Print classification report\n",
        "    from sklearn.metrics import classification_report\n",
        "    print(\"\\nClassification Report:\")\n",
        "    print(classification_report(\n",
        "        y_test_classes,\n",
        "        y_pred_classes,\n",
        "        target_names=label_encoder.classes_\n",
        "    ))"
      ],
      "metadata": {
        "id": "yB66X03FjQo-"
      },
      "execution_count": 8,
      "outputs": []
    },
    {
      "cell_type": "code",
      "source": [
        "# Load and prepare data\n",
        "print(\"Loading data...\")\n",
        "data = load_data('/content/drive/MyDrive/ML/Videos Classification/Videos_data.csv')"
      ],
      "metadata": {
        "colab": {
          "base_uri": "https://localhost:8080/"
        },
        "id": "nmTZ14MCkRDW",
        "outputId": "cbeaed62-f827-47f9-8ba1-c6632fb1c08c"
      },
      "execution_count": 9,
      "outputs": [
        {
          "output_type": "stream",
          "name": "stdout",
          "text": [
            "Loading data...\n",
            "\n",
            "Initial data shape: (10333, 5)\n",
            "\n",
            "Sample of raw data:\n",
            "   Unnamed: 0     Video Id                                              Title  \\\n",
            "0           0  ehmsJLZlCZ0  Ep 1| Travelling through North East India | Of...   \n",
            "1           1  e2NQE41J5eM    How do I travel so much ! How do I earn money!!   \n",
            "2           2  i9E_Blai8vk      TRAVEL VLOG ∙ Welcome to Bali | PRISCILLA LEE   \n",
            "3           3       #NAME?  GOA TRAVEL DIARY | FOUR DAYS IN GOA | TRAVEL O...   \n",
            "4           4  7ByoBJYXU0k               5 Steps to Becoming a Travel Blogger   \n",
            "\n",
            "                                         Description Category  \n",
            "0  The journey to Arunachal, North East India beg...   travel  \n",
            "1  SUBSCRIBE - https://goo.gl/dEtSMJ ('MountainTr...   travel  \n",
            "2  I had the chance to fly out to Bali with my wh...   travel  \n",
            "3  Hope you enjoy MY GOA TRAVEL DIARY this video!...   travel  \n",
            "4  Travel blogger, Nikki Vargas, of The Pin the M...   travel  \n",
            "\n",
            "Missing values before cleaning:\n",
            "Video Id         0\n",
            "Title            0\n",
            "Description    334\n",
            "Category         0\n",
            "dtype: int64\n",
            "\n",
            "Shape after cleaning: (9999, 4)\n"
          ]
        }
      ]
    },
    {
      "cell_type": "code",
      "source": [
        "# Prepare text data\n",
        "MAX_WORDS = 10000\n",
        "MAX_LEN = 50\n",
        "X, y, tokenizer, label_encoder = prepare_text_data(data, MAX_WORDS, MAX_LEN)"
      ],
      "metadata": {
        "colab": {
          "base_uri": "https://localhost:8080/"
        },
        "id": "-9kCkIHSkQ19",
        "outputId": "95b83465-2ea6-40b0-a1b4-d4f5f2a48a75"
      },
      "execution_count": 10,
      "outputs": [
        {
          "output_type": "stream",
          "name": "stdout",
          "text": [
            "\n",
            "Combining title and description...\n",
            "\n",
            "Tokenizing text...\n",
            "\n",
            "Sample of processed sequences:\n",
            "[[   0    0    0    0    0    0    0    0    0    0  497   54   27  191\n",
            "   608  631  145  200    3 6352    1  523 1069 6353    1  523    3 6352\n",
            "   608  631  145 1069   15    5  916  523   23 5473    3   23   53   30\n",
            "   649    3 6353    4   82    4   29   26]\n",
            " [   0    0    0    0    0    0    0    0    0    0    0    0    0    0\n",
            "     0    0    0    0    0    0    0   18   84   20   26   93  260   18\n",
            "    84   20 2458  539   50   17  107  109   17  107  109  100   11   70\n",
            "   373  233 8095  917  125    3 1335   19]\n",
            " [   0    0    0    0    0    0    0    0    0    0    0    0   26  164\n",
            "   264    3  809 2763   20  359    1 1336    3 2208   56    3  809   15\n",
            "    29  698  369    9 4717    7   44   80  215  173 1298   20 1004    3\n",
            "  3815   29 2459   93   32   20   59  675]\n",
            " [   0    0    0    0    0    0    0    0    0    0    0    0    0    0\n",
            "  2963   26 2327 1036  342    6 2963   26 8096  198  371   11  403   29\n",
            "  2963   26 2327    9   13  272  699    3   50    4   65    9   13  279\n",
            "    11    7   40  184  199   11  240   55]\n",
            " [   0    0    0    0    0    0    0    0    0    0    0    0    0    0\n",
            "     0    0   96  985    3 2096    5   26  466   26  466    2    1 4204\n",
            "     1 1896  282 8097  101  250   26   55    6  432 1132  201   71  150\n",
            "     3  797  938   48    5   26  466    4]]\n",
            "\n",
            "Encoding labels...\n",
            "\n",
            "Unique categories: ['art and music' 'food' 'history' 'manufacturing' 'science and technology'\n",
            " 'travel']\n",
            "Sample of encoded labels: [[0. 0. 0. 0. 0. 1.]\n",
            " [0. 0. 0. 0. 0. 1.]\n",
            " [0. 0. 0. 0. 0. 1.]\n",
            " [0. 0. 0. 0. 0. 1.]\n",
            " [0. 0. 0. 0. 0. 1.]]\n"
          ]
        }
      ]
    },
    {
      "cell_type": "code",
      "source": [
        "# Split data\n",
        "X_train, X_test, y_train, y_test = train_test_split(\n",
        "    X, y,\n",
        "    test_size=0.2,\n",
        "    random_state=42,\n",
        "    stratify=y\n",
        ")\n",
        "X_train, X_val, y_train, y_val = train_test_split(\n",
        "    X_train, y_train,\n",
        "    test_size=0.2,\n",
        "    random_state=42,\n",
        "    stratify=y_train\n",
        ")"
      ],
      "metadata": {
        "id": "O0JDZXLQkQoI"
      },
      "execution_count": 11,
      "outputs": []
    },
    {
      "cell_type": "code",
      "source": [
        "# Create and train model\n",
        "model = create_model(MAX_WORDS, MAX_LEN)\n",
        "history = train_model(model, X_train, y_train, X_val, y_val)"
      ],
      "metadata": {
        "colab": {
          "base_uri": "https://localhost:8080/",
          "height": 631
        },
        "id": "1U3yMJeKkkKW",
        "outputId": "e8387c01-09b2-452f-ecb4-4a48bf31ec77"
      },
      "execution_count": 12,
      "outputs": [
        {
          "output_type": "stream",
          "name": "stdout",
          "text": [
            "\n",
            "Model Summary:\n"
          ]
        },
        {
          "output_type": "stream",
          "name": "stderr",
          "text": [
            "/usr/local/lib/python3.10/dist-packages/keras/src/layers/core/embedding.py:90: UserWarning: Argument `input_length` is deprecated. Just remove it.\n",
            "  warnings.warn(\n"
          ]
        },
        {
          "output_type": "display_data",
          "data": {
            "text/plain": [
              "\u001b[1mModel: \"sequential\"\u001b[0m\n"
            ],
            "text/html": [
              "<pre style=\"white-space:pre;overflow-x:auto;line-height:normal;font-family:Menlo,'DejaVu Sans Mono',consolas,'Courier New',monospace\"><span style=\"font-weight: bold\">Model: \"sequential\"</span>\n",
              "</pre>\n"
            ]
          },
          "metadata": {}
        },
        {
          "output_type": "display_data",
          "data": {
            "text/plain": [
              "┏━━━━━━━━━━━━━━━━━━━━━━━━━━━━━━━━━━━━━━┳━━━━━━━━━━━━━━━━━━━━━━━━━━━━━┳━━━━━━━━━━━━━━━━━┓\n",
              "┃\u001b[1m \u001b[0m\u001b[1mLayer (type)                        \u001b[0m\u001b[1m \u001b[0m┃\u001b[1m \u001b[0m\u001b[1mOutput Shape               \u001b[0m\u001b[1m \u001b[0m┃\u001b[1m \u001b[0m\u001b[1m        Param #\u001b[0m\u001b[1m \u001b[0m┃\n",
              "┡━━━━━━━━━━━━━━━━━━━━━━━━━━━━━━━━━━━━━━╇━━━━━━━━━━━━━━━━━━━━━━━━━━━━━╇━━━━━━━━━━━━━━━━━┩\n",
              "│ embedding (\u001b[38;5;33mEmbedding\u001b[0m)                │ ?                           │     \u001b[38;5;34m0\u001b[0m (unbuilt) │\n",
              "├──────────────────────────────────────┼─────────────────────────────┼─────────────────┤\n",
              "│ spatial_dropout1d (\u001b[38;5;33mSpatialDropout1D\u001b[0m) │ ?                           │     \u001b[38;5;34m0\u001b[0m (unbuilt) │\n",
              "├──────────────────────────────────────┼─────────────────────────────┼─────────────────┤\n",
              "│ lstm (\u001b[38;5;33mLSTM\u001b[0m)                          │ ?                           │     \u001b[38;5;34m0\u001b[0m (unbuilt) │\n",
              "├──────────────────────────────────────┼─────────────────────────────┼─────────────────┤\n",
              "│ dense (\u001b[38;5;33mDense\u001b[0m)                        │ ?                           │     \u001b[38;5;34m0\u001b[0m (unbuilt) │\n",
              "└──────────────────────────────────────┴─────────────────────────────┴─────────────────┘\n"
            ],
            "text/html": [
              "<pre style=\"white-space:pre;overflow-x:auto;line-height:normal;font-family:Menlo,'DejaVu Sans Mono',consolas,'Courier New',monospace\">┏━━━━━━━━━━━━━━━━━━━━━━━━━━━━━━━━━━━━━━┳━━━━━━━━━━━━━━━━━━━━━━━━━━━━━┳━━━━━━━━━━━━━━━━━┓\n",
              "┃<span style=\"font-weight: bold\"> Layer (type)                         </span>┃<span style=\"font-weight: bold\"> Output Shape                </span>┃<span style=\"font-weight: bold\">         Param # </span>┃\n",
              "┡━━━━━━━━━━━━━━━━━━━━━━━━━━━━━━━━━━━━━━╇━━━━━━━━━━━━━━━━━━━━━━━━━━━━━╇━━━━━━━━━━━━━━━━━┩\n",
              "│ embedding (<span style=\"color: #0087ff; text-decoration-color: #0087ff\">Embedding</span>)                │ ?                           │     <span style=\"color: #00af00; text-decoration-color: #00af00\">0</span> (unbuilt) │\n",
              "├──────────────────────────────────────┼─────────────────────────────┼─────────────────┤\n",
              "│ spatial_dropout1d (<span style=\"color: #0087ff; text-decoration-color: #0087ff\">SpatialDropout1D</span>) │ ?                           │     <span style=\"color: #00af00; text-decoration-color: #00af00\">0</span> (unbuilt) │\n",
              "├──────────────────────────────────────┼─────────────────────────────┼─────────────────┤\n",
              "│ lstm (<span style=\"color: #0087ff; text-decoration-color: #0087ff\">LSTM</span>)                          │ ?                           │     <span style=\"color: #00af00; text-decoration-color: #00af00\">0</span> (unbuilt) │\n",
              "├──────────────────────────────────────┼─────────────────────────────┼─────────────────┤\n",
              "│ dense (<span style=\"color: #0087ff; text-decoration-color: #0087ff\">Dense</span>)                        │ ?                           │     <span style=\"color: #00af00; text-decoration-color: #00af00\">0</span> (unbuilt) │\n",
              "└──────────────────────────────────────┴─────────────────────────────┴─────────────────┘\n",
              "</pre>\n"
            ]
          },
          "metadata": {}
        },
        {
          "output_type": "display_data",
          "data": {
            "text/plain": [
              "\u001b[1m Total params: \u001b[0m\u001b[38;5;34m0\u001b[0m (0.00 B)\n"
            ],
            "text/html": [
              "<pre style=\"white-space:pre;overflow-x:auto;line-height:normal;font-family:Menlo,'DejaVu Sans Mono',consolas,'Courier New',monospace\"><span style=\"font-weight: bold\"> Total params: </span><span style=\"color: #00af00; text-decoration-color: #00af00\">0</span> (0.00 B)\n",
              "</pre>\n"
            ]
          },
          "metadata": {}
        },
        {
          "output_type": "display_data",
          "data": {
            "text/plain": [
              "\u001b[1m Trainable params: \u001b[0m\u001b[38;5;34m0\u001b[0m (0.00 B)\n"
            ],
            "text/html": [
              "<pre style=\"white-space:pre;overflow-x:auto;line-height:normal;font-family:Menlo,'DejaVu Sans Mono',consolas,'Courier New',monospace\"><span style=\"font-weight: bold\"> Trainable params: </span><span style=\"color: #00af00; text-decoration-color: #00af00\">0</span> (0.00 B)\n",
              "</pre>\n"
            ]
          },
          "metadata": {}
        },
        {
          "output_type": "display_data",
          "data": {
            "text/plain": [
              "\u001b[1m Non-trainable params: \u001b[0m\u001b[38;5;34m0\u001b[0m (0.00 B)\n"
            ],
            "text/html": [
              "<pre style=\"white-space:pre;overflow-x:auto;line-height:normal;font-family:Menlo,'DejaVu Sans Mono',consolas,'Courier New',monospace\"><span style=\"font-weight: bold\"> Non-trainable params: </span><span style=\"color: #00af00; text-decoration-color: #00af00\">0</span> (0.00 B)\n",
              "</pre>\n"
            ]
          },
          "metadata": {}
        },
        {
          "output_type": "stream",
          "name": "stdout",
          "text": [
            "Epoch 1/10\n",
            "\u001b[1m50/50\u001b[0m \u001b[32m━━━━━━━━━━━━━━━━━━━━\u001b[0m\u001b[37m\u001b[0m \u001b[1m13s\u001b[0m 196ms/step - accuracy: 0.2919 - loss: 1.7357 - val_accuracy: 0.7444 - val_loss: 0.9496\n",
            "Epoch 2/10\n",
            "\u001b[1m50/50\u001b[0m \u001b[32m━━━━━━━━━━━━━━━━━━━━\u001b[0m\u001b[37m\u001b[0m \u001b[1m7s\u001b[0m 142ms/step - accuracy: 0.7419 - loss: 0.7565 - val_accuracy: 0.9200 - val_loss: 0.2704\n",
            "Epoch 3/10\n",
            "\u001b[1m50/50\u001b[0m \u001b[32m━━━━━━━━━━━━━━━━━━━━\u001b[0m\u001b[37m\u001b[0m \u001b[1m12s\u001b[0m 174ms/step - accuracy: 0.9352 - loss: 0.2353 - val_accuracy: 0.9700 - val_loss: 0.1393\n",
            "Epoch 4/10\n",
            "\u001b[1m50/50\u001b[0m \u001b[32m━━━━━━━━━━━━━━━━━━━━\u001b[0m\u001b[37m\u001b[0m \u001b[1m11s\u001b[0m 185ms/step - accuracy: 0.9783 - loss: 0.1052 - val_accuracy: 0.9638 - val_loss: 0.1744\n",
            "Epoch 5/10\n",
            "\u001b[1m50/50\u001b[0m \u001b[32m━━━━━━━━━━━━━━━━━━━━\u001b[0m\u001b[37m\u001b[0m \u001b[1m7s\u001b[0m 134ms/step - accuracy: 0.9776 - loss: 0.1075 - val_accuracy: 0.9750 - val_loss: 0.1277\n",
            "Epoch 6/10\n",
            "\u001b[1m50/50\u001b[0m \u001b[32m━━━━━━━━━━━━━━━━━━━━\u001b[0m\u001b[37m\u001b[0m \u001b[1m12s\u001b[0m 169ms/step - accuracy: 0.9897 - loss: 0.0580 - val_accuracy: 0.9731 - val_loss: 0.1413\n",
            "Epoch 7/10\n",
            "\u001b[1m50/50\u001b[0m \u001b[32m━━━━━━━━━━━━━━━━━━━━\u001b[0m\u001b[37m\u001b[0m \u001b[1m11s\u001b[0m 183ms/step - accuracy: 0.9861 - loss: 0.0633 - val_accuracy: 0.9712 - val_loss: 0.1436\n",
            "Epoch 8/10\n",
            "\u001b[1m50/50\u001b[0m \u001b[32m━━━━━━━━━━━━━━━━━━━━\u001b[0m\u001b[37m\u001b[0m \u001b[1m8s\u001b[0m 145ms/step - accuracy: 0.9887 - loss: 0.0611 - val_accuracy: 0.9731 - val_loss: 0.1446\n"
          ]
        }
      ]
    },
    {
      "cell_type": "code",
      "source": [
        "# Plot training history\n",
        "plot_training_history(history)"
      ],
      "metadata": {
        "colab": {
          "base_uri": "https://localhost:8080/",
          "height": 527
        },
        "id": "yolpDRgvkkFp",
        "outputId": "26fcf7f9-b766-47bc-f7d2-51928d61b5f5"
      },
      "execution_count": 13,
      "outputs": [
        {
          "output_type": "display_data",
          "data": {
            "text/plain": [
              "<Figure size 1500x500 with 2 Axes>"
            ],
            "image/png": "[encoded data removed]"
          },
          "metadata": {}
        }
      ]
    },
    {
      "cell_type": "code",
      "source": [
        "# Load best weights and evaluate\n",
        "model.load_weights('best_model.weights.h5')\n",
        "evaluate_model(model, X_test, y_test, label_encoder)"
      ],
      "metadata": {
        "colab": {
          "base_uri": "https://localhost:8080/"
        },
        "id": "xJ8DWgP3kj9i",
        "outputId": "10a9eb0d-1c64-4fd2-f2af-d10438d75ee1"
      },
      "execution_count": 14,
      "outputs": [
        {
          "output_type": "stream",
          "name": "stdout",
          "text": [
            "\u001b[1m63/63\u001b[0m \u001b[32m━━━━━━━━━━━━━━━━━━━━\u001b[0m\u001b[37m\u001b[0m \u001b[1m2s\u001b[0m 22ms/step\n",
            "\n",
            "Classification Report:\n",
            "                        precision    recall  f1-score   support\n",
            "\n",
            "         art and music       0.98      0.99      0.98       335\n",
            "                  food       0.98      0.97      0.98       339\n",
            "               history       0.97      0.98      0.98       326\n",
            "         manufacturing       0.99      0.99      0.99       335\n",
            "science and technology       0.97      0.96      0.97       331\n",
            "                travel       1.00      0.99      1.00       334\n",
            "\n",
            "              accuracy                           0.98      2000\n",
            "             macro avg       0.98      0.98      0.98      2000\n",
            "          weighted avg       0.98      0.98      0.98      2000\n",
            "\n"
          ]
        }
      ]
    },
    {
      "cell_type": "code",
      "source": [
        "# Save artifacts\n",
        "print(\"\\nSaving model artifacts...\")\n",
        "model.save('/content/drive/MyDrive/ML/Videos Classification/video_classification_model.keras')\n",
        "joblib.dump(tokenizer, '/content/drive/MyDrive/ML/Videos Classification/tokenizer.joblib')\n",
        "joblib.dump(label_encoder, '/content/drive/MyDrive/ML/Videos Classification/label_encoder.joblib')"
      ],
      "metadata": {
        "colab": {
          "base_uri": "https://localhost:8080/"
        },
        "id": "3XoD0x4-krEA",
        "outputId": "4571fe94-d8db-4906-9a8e-c55a7f62dd82"
      },
      "execution_count": 15,
      "outputs": [
        {
          "output_type": "stream",
          "name": "stdout",
          "text": [
            "\n",
            "Saving model artifacts...\n"
          ]
        },
        {
          "output_type": "execute_result",
          "data": {
            "text/plain": [
              "['/content/drive/MyDrive/ML/Advertisement Classification/label_encoder.joblib']"
            ]
          },
          "metadata": {},
          "execution_count": 15
        }
      ]
    },
    {
      "cell_type": "code",
      "source": [
        "# Example of using the saved model\n",
        "print(\"\\nExample of model usage:\")\n",
        "text = \"How to make delicious pasta - Italian cooking tutorial\"\n",
        "sequence = tokenizer.texts_to_sequences([text])\n",
        "padded = pad_sequences(sequence, maxlen=MAX_LEN)\n",
        "prediction = model.predict(padded)\n",
        "predicted_class = label_encoder.inverse_transform([np.argmax(prediction[0])])\n",
        "print(f\"Input text: {text}\")\n",
        "print(f\"Predicted category: {predicted_class[0]}\")"
      ],
      "metadata": {
        "colab": {
          "base_uri": "https://localhost:8080/"
        },
        "id": "8B-YeXf3kq2j",
        "outputId": "02c3a0b5-0553-4e44-e97c-7efdbebbc732"
      },
      "execution_count": 16,
      "outputs": [
        {
          "output_type": "stream",
          "name": "stdout",
          "text": [
            "\n",
            "Example of model usage:\n",
            "\u001b[1m1/1\u001b[0m \u001b[32m━━━━━━━━━━━━━━━━━━━━\u001b[0m\u001b[37m\u001b[0m \u001b[1m0s\u001b[0m 28ms/step\n",
            "Input text: How to make delicious pasta - Italian cooking tutorial\n",
            "Predicted category: food\n"
          ]
        }
      ]
    }
  ]
}